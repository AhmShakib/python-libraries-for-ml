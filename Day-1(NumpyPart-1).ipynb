{
 "cells": [
  {
   "cell_type": "markdown",
   "id": "60634e4a-752d-4d7a-9015-fbf074c12cbc",
   "metadata": {},
   "source": [
    "<h1 style=\"font-family: 'Segoe UI', sans-serif; font-size: 30px; color: #097770;\">\n",
    "  Definition\n",
    "</h1>\n",
    "\n",
    "<p style=\"font-family: Georgia; font-size: 18px;\">\n",
    "  Numpy stands for numerical python and is the core library for numeric and scientific computing.\n",
    "    ✅It consists of multi dimensional array objects and a collection of routines for processing those arrarys.</br>\n",
    "    ✅It makes math fast and simple especailly for scientific and data work</br>\n",
    "    ✅ Traditional list is slow to mathemtical operation thats why we need numpy library\n",
    "    \n",
    "</p>\n"
   ]
  },
  {
   "cell_type": "markdown",
   "id": "c5a97811-0d82-420c-aca4-570bcf8ce0a8",
   "metadata": {},
   "source": [
    "<h1 style=\"font-family: 'Segoe UI', sans-serif; font-size: 30px; color: #097770;\">\n",
    "  Dimensions of Arrays\n",
    "</h1>\n",
    "\n",
    "\n"
   ]
  },
  {
   "cell_type": "markdown",
   "id": "07c0a536-acb5-49f7-8270-e27288296575",
   "metadata": {},
   "source": [
    "<p style=\"font-family: Georgia; font-size: 18px;\">\n",
    "    1.<code> 1-Dimensional</code> array just like a list or line</br>\n",
    "</p>"
   ]
  },
  {
   "cell_type": "code",
   "execution_count": 5,
   "id": "b4a8b837-e8e1-4a03-a4c0-b769e0f6fbc9",
   "metadata": {},
   "outputs": [
    {
     "name": "stdout",
     "output_type": "stream",
     "text": [
      "[1 2 3]\n"
     ]
    }
   ],
   "source": [
    "import numpy as np\n",
    "arr=np.array([1,2,3])\n",
    "print(arr)"
   ]
  },
  {
   "cell_type": "code",
   "execution_count": 6,
   "id": "2bb9c0ff-5439-4a43-b96c-e3cc9f1a06bd",
   "metadata": {},
   "outputs": [
    {
     "data": {
      "text/plain": [
       "array([1, 2, 3])"
      ]
     },
     "execution_count": 6,
     "metadata": {},
     "output_type": "execute_result"
    }
   ],
   "source": [
    "arr  #notice the change of print(arr) and direct printing"
   ]
  },
  {
   "cell_type": "markdown",
   "id": "e134d995-3c90-472f-bdd2-6b62a8165710",
   "metadata": {},
   "source": [
    "<p style=\"font-family: Georgia; font-size: 18px;\">\n",
    "    2.<code> 2-Dimensional</code>array just like a table (Rows and Columns)</br>\n",
    "</p>"
   ]
  },
  {
   "cell_type": "code",
   "execution_count": 8,
   "id": "5e9d7b27-21e1-44cc-ab2b-23b90c70ce67",
   "metadata": {},
   "outputs": [
    {
     "data": {
      "text/plain": [
       "array([[4, 9, 8],\n",
       "       [3, 4, 5]])"
      ]
     },
     "execution_count": 8,
     "metadata": {},
     "output_type": "execute_result"
    }
   ],
   "source": [
    "arr=np.array([[4,9,8],[3,4,5]])\n",
    "arr"
   ]
  },
  {
   "cell_type": "markdown",
   "id": "05740cfa-bc1c-4c96-973c-b71b2b62be7a",
   "metadata": {},
   "source": [
    "<p style=\"font-family: Georgia; font-size: 18px;\">\n",
    "    3.<code> 3-Dimensional</code>array like a stack of tables(one table in another table)</br>\n",
    "    --Think of it like a stack of 2D tables(multiple layers)\n",
    "</p>"
   ]
  },
  {
   "cell_type": "code",
   "execution_count": 9,
   "id": "6156e6ba-93d4-4c7d-9323-f6f2fbd5e274",
   "metadata": {},
   "outputs": [
    {
     "data": {
      "text/plain": [
       "array([[[1, 2],\n",
       "        [3, 4],\n",
       "        [4, 5]]])"
      ]
     },
     "execution_count": 9,
     "metadata": {},
     "output_type": "execute_result"
    }
   ],
   "source": [
    "arr=np.array([[[1,2],[3,4],[4,5]]])\n",
    "arr"
   ]
  },
  {
   "cell_type": "markdown",
   "id": "4a3d0190-02ab-45d8-8109-0f8b5f3f841c",
   "metadata": {},
   "source": [
    "<p style=\"font-family: Georgia; font-size: 18px;\">\n",
    "    4.<code> 0-Dimensional</code>array is  a single number</br>\n",
    "</p>"
   ]
  },
  {
   "cell_type": "code",
   "execution_count": 11,
   "id": "0c59abb6-3f7f-4ba9-b9bf-c53d1a962a39",
   "metadata": {},
   "outputs": [
    {
     "name": "stdout",
     "output_type": "stream",
     "text": [
      "7\n"
     ]
    }
   ],
   "source": [
    "arr=np.array(7)\n",
    "print(arr)"
   ]
  },
  {
   "cell_type": "markdown",
   "id": "bbb6074a-5177-4b5a-aee3-f04314256403",
   "metadata": {},
   "source": [
    "<h1 style=\"font-family: 'Segoe UI', sans-serif; font-size: 30px; color: #097770;\">\n",
    "  Common Numpy Functions\n",
    "</h1>\n",
    "\n",
    "\n"
   ]
  },
  {
   "cell_type": "markdown",
   "id": "bb1e181c-2560-4fd6-8bc6-93bf85bcb418",
   "metadata": {},
   "source": [
    "<p style=\"font-family: Georgia; font-size: 18px;\">\n",
    "    1.<code>np.array</code>-----create an array</br>\n",
    "</p>"
   ]
  },
  {
   "cell_type": "code",
   "execution_count": 13,
   "id": "c3cfbbc0-32b1-40a1-8a21-f68a161974d8",
   "metadata": {},
   "outputs": [
    {
     "name": "stdout",
     "output_type": "stream",
     "text": [
      "[1 2 3]\n"
     ]
    }
   ],
   "source": [
    "arr=np.array([1,2,3])\n",
    "print(arr)"
   ]
  },
  {
   "cell_type": "markdown",
   "id": "916618e6-0698-411b-ba49-42cc00eb6d96",
   "metadata": {},
   "source": [
    "<p style=\"font-family: Georgia; font-size: 18px;\">\n",
    "    2.<code>np.shape</code>-----get the shape(rows and columns)</br>\n",
    "</p>"
   ]
  },
  {
   "cell_type": "code",
   "execution_count": 18,
   "id": "2b6685b3-f34e-40a0-826d-c33a6c321098",
   "metadata": {},
   "outputs": [
    {
     "data": {
      "text/plain": [
       "(2, 2)"
      ]
     },
     "execution_count": 18,
     "metadata": {},
     "output_type": "execute_result"
    }
   ],
   "source": [
    "arr=np.array([[3,4],[4,9]])\n",
    "arr.shape"
   ]
  },
  {
   "cell_type": "markdown",
   "id": "3053a636-976a-49ff-8375-d01350ffbca5",
   "metadata": {},
   "source": [
    "<p style=\"font-family: Georgia; font-size: 18px;\">\n",
    "    3.<code>np.mean()</code>-----average of elements</br>\n",
    "</p>"
   ]
  },
  {
   "cell_type": "code",
   "execution_count": 26,
   "id": "81faa6ca-f37c-4750-bbc1-278b3cefb2c9",
   "metadata": {},
   "outputs": [
    {
     "data": {
      "text/plain": [
       "3.5"
      ]
     },
     "execution_count": 26,
     "metadata": {},
     "output_type": "execute_result"
    }
   ],
   "source": [
    "arr=np.array([[2,3,4],[5,4,3]])\n",
    "arr.mean()"
   ]
  },
  {
   "cell_type": "markdown",
   "id": "4b1ded02-c2a2-44ef-80b1-90c0470d1335",
   "metadata": {},
   "source": [
    "<p style=\"font-family: Georgia; font-size: 18px;\">\n",
    "    4.<code>np.sum()</code>-----total sum of elements</br>\n",
    "</p>"
   ]
  },
  {
   "cell_type": "code",
   "execution_count": 27,
   "id": "0931f02f-91d9-4ef2-a1fc-d3ca995df7e0",
   "metadata": {},
   "outputs": [
    {
     "data": {
      "text/plain": [
       "50"
      ]
     },
     "execution_count": 27,
     "metadata": {},
     "output_type": "execute_result"
    }
   ],
   "source": [
    "arr=np.array([[[3,4,5],[9,3,8],[3,6,9]]])\n",
    "arr.sum()"
   ]
  },
  {
   "cell_type": "markdown",
   "id": "4eeb156c-23ba-45d7-bc15-f13621dae887",
   "metadata": {},
   "source": [
    "<p style=\"font-family: Georgia; font-size: 18px;\">\n",
    "    5.<code>np.arange(a)</code>-----it will give an array of numbers from 0 to a(exclusive) </br>\n",
    "</p>"
   ]
  },
  {
   "cell_type": "code",
   "execution_count": 32,
   "id": "41c4ef44-b222-4e29-aaf4-216211c0bcb7",
   "metadata": {},
   "outputs": [
    {
     "data": {
      "text/plain": [
       "array([0, 1, 2, 3, 4, 5])"
      ]
     },
     "execution_count": 32,
     "metadata": {},
     "output_type": "execute_result"
    }
   ],
   "source": [
    "arr=np.arange(6)\n",
    "arr"
   ]
  },
  {
   "cell_type": "markdown",
   "id": "adbed176-fa88-45ef-b9ff-a60c672ff0ff",
   "metadata": {},
   "source": [
    "<p style=\"font-family: Georgia; font-size: 18px;\">\n",
    "    5.<code>np.reshape</code>-----change the shape of current array </br>\n",
    "</p>"
   ]
  },
  {
   "cell_type": "code",
   "execution_count": 37,
   "id": "beba1954-f767-4634-b2cd-234e7860ebb0",
   "metadata": {},
   "outputs": [
    {
     "name": "stdout",
     "output_type": "stream",
     "text": [
      "(2, 3)\n"
     ]
    },
    {
     "data": {
      "text/plain": [
       "array([[3, 4],\n",
       "       [5, 4],\n",
       "       [8, 9]])"
      ]
     },
     "execution_count": 37,
     "metadata": {},
     "output_type": "execute_result"
    }
   ],
   "source": [
    "arr=np.array([[3,4,5],[4,8,9]])\n",
    "print(arr.shape)\n",
    "arr.reshape(3,2)"
   ]
  },
  {
   "cell_type": "markdown",
   "id": "61d51741-a1ea-4887-a0db-4855fd7e7505",
   "metadata": {},
   "source": [
    "<h1 style=\"font-family: 'Segoe UI', sans-serif; font-size: 30px; color: #097770;\">\n",
    "  Initializing Numpy with Zeros\n",
    "</h1>\n",
    "\n",
    "<p style=\"font-family: Georgia; font-size: 18px;\">\n",
    "    1.<code>np.zeros((a))</code> creates a 1D array of zeros </br>\n",
    "    2.<code>np.zeros((a,b))</code> creates a 2D array of zeros with </br>\n",
    "        a= number of rows</br>\n",
    "    b=number of columns</br>\n",
    "    3.<code>np.zeros((a,b,c))</code> creates a 3D array of zeros with </br>\n",
    "    a= number of tables</br>\n",
    "    b= number of rows</br>\n",
    "    c=number of columns</br>\n",
    "    * 0.  means all the numbers are float number(by default)</br> \n",
    "    Why use it?</br>\n",
    "    ⏺️Make an empty structure to fill later</br>\n",
    "    ⏺️Initialize a matrix before calculation</br>\n",
    "    ⏺️Avoid random starting values\n",
    "</p>\n",
    "\n",
    "\n",
    "\n"
   ]
  },
  {
   "cell_type": "code",
   "execution_count": 50,
   "id": "4fe709c6-485a-40b2-816b-b316d240b0bb",
   "metadata": {},
   "outputs": [
    {
     "name": "stdout",
     "output_type": "stream",
     "text": [
      "1D Array=\n",
      "[0. 0. 0.]\n",
      "\n",
      " 2D Array=\n",
      "[[0. 0. 0. 0.]\n",
      " [0. 0. 0. 0.]\n",
      " [0. 0. 0. 0.]]\n",
      "\n",
      " 3D Array=\n",
      "[[[0. 0. 0. 0.]\n",
      "  [0. 0. 0. 0.]\n",
      "  [0. 0. 0. 0.]]\n",
      "\n",
      " [[0. 0. 0. 0.]\n",
      "  [0. 0. 0. 0.]\n",
      "  [0. 0. 0. 0.]]\n",
      "\n",
      " [[0. 0. 0. 0.]\n",
      "  [0. 0. 0. 0.]\n",
      "  [0. 0. 0. 0.]]]\n"
     ]
    }
   ],
   "source": [
    "arr1=np.zeros((3))\n",
    "arr2=np.zeros((3,4))\n",
    "arr3=np.zeros((3,3,4))\n",
    "print(f'1D Array=\\n{arr1}')\n",
    "print(f'\\n 2D Array=\\n{arr2}')\n",
    "print(f'\\n 3D Array=\\n{arr3}')"
   ]
  },
  {
   "cell_type": "markdown",
   "id": "7baded67-a7bf-4f08-a39a-3cbbcda9d549",
   "metadata": {},
   "source": [
    "<h1 style=\"font-family: 'Segoe UI', sans-serif; font-size: 30px; color: #097770;\">\n",
    "  Initializing Numpy with Same Number\n",
    "</h1>\n",
    "\n",
    "<p style=\"font-family: Georgia; font-size: 18px;\">\n",
    "    1.<code>np.full((a),c)</code> creates <b>1D</b> all elements are <b>c</b>  </br>\n",
    "    2.<code>np.full((a,b),c)</code> creates <b>2D</b> array of all elements are <b>c</b>  </br>\n",
    "    3.<code>np.full((a,b),c)</code> creates <b>3D</b> array of all elements are <b>c</b>  </br>\n",
    "</p>"
   ]
  },
  {
   "cell_type": "code",
   "execution_count": 54,
   "id": "b741fe66-829f-4d7b-8760-1349da356e5f",
   "metadata": {},
   "outputs": [
    {
     "name": "stdout",
     "output_type": "stream",
     "text": [
      "[10 10 10]\n",
      "\n",
      " [[5 5 5]\n",
      " [5 5 5]\n",
      " [5 5 5]]\n",
      "\n",
      " [[[10 10 10 10]\n",
      "  [10 10 10 10]\n",
      "  [10 10 10 10]]\n",
      "\n",
      " [[10 10 10 10]\n",
      "  [10 10 10 10]\n",
      "  [10 10 10 10]]]\n"
     ]
    }
   ],
   "source": [
    "arr1=np.full((3),10)\n",
    "print(arr1)\n",
    "\n",
    "arr2=np.full((3,3),5)\n",
    "print(\"\\n\",arr2 )\n",
    "\n",
    "arr3=np.full((2,3,4),10)\n",
    "print(\"\\n\",arr3)\n"
   ]
  },
  {
   "cell_type": "markdown",
   "id": "42824ccf-7d30-49db-8a30-6920acb2ec88",
   "metadata": {},
   "source": [
    "<h1 style=\"font-family: 'Segoe UI', sans-serif; font-size: 30px; color: #097770;\">\n",
    "  Initializing Numpy Array within a range\n",
    "</h1>\n",
    "\n",
    "<p style=\"font-family: Georgia; font-size: 18px;\">\n",
    "    1.<code>np.arange(a,b)</code> starts with <b>a(inclusive)</b> ends to <b>b(exclusive)</b> with <b>interval 1</b>  </br>\n",
    "    2.<code>np.arange(a,b,c)</code> starts with <b>a(inclusive)</b> ends to <b>b(exclusive)</b> with <b>step or interval c</b>  </br>\n",
    "</p>"
   ]
  },
  {
   "cell_type": "code",
   "execution_count": 55,
   "id": "4ad7b707-84ed-4ce9-931f-f2e7fa434947",
   "metadata": {},
   "outputs": [
    {
     "name": "stdout",
     "output_type": "stream",
     "text": [
      "[3 4 5 6 7 8 9]\n",
      "[ 2  7 12 17 22 27 32 37]\n"
     ]
    }
   ],
   "source": [
    "arr1 = np.arange(3,10)\n",
    "print(arr1)\n",
    "\n",
    "arr2=np.arange(2,40,5)\n",
    "print(arr2)"
   ]
  },
  {
   "cell_type": "markdown",
   "id": "0b02fda1-d6d5-4d10-b924-cb512f8f0c24",
   "metadata": {},
   "source": [
    "<h1 style=\"font-family: 'Segoe UI', sans-serif; font-size: 30px; color: #097770;\">\n",
    "  Initializing Numpy Array within a range\n",
    "</h1>\n",
    "\n",
    "<p style=\"font-family: Georgia; font-size: 18px;\">\n",
    " 1.<code>np.random.rand()</code> returns a random float value between 0 and 1 </br>\n",
    " 2.<code>np.random.rand(2,3)</code> returns a 2 by 3 array with random float numbers</br>\n",
    " 3.<code>np.random.seed(23)</code> returns the same number of the next random line when we use it with that</br>\n",
    " 4.<code>np.random.randint(20,30)</code> returns an random  integer value between 20 and 30(exclusive) </br>\n",
    " 5.<code>np.random.randint(20,30,5)</code> returns 5 random  integer values between 20 and 30(exclusive) </br>\n",
    " 6.<code>np.random.randint(10, 100, size=(3, 4)))</code> returns a 3 by 4 2D array with numbers between 10 and 100 (exclusive) </br>\n",
    " 7.<code>np.random.randint(10, 100, size=(3, 4, 5)))</code> returns a  3D array of 3 tables of 4 by 5 size with numbers between 10 and 100 (exclusive) </br>\n",
    "</p>  "
   ]
  },
  {
   "cell_type": "code",
   "execution_count": 74,
   "id": "734655ba-3469-403f-9672-18e3d46d683f",
   "metadata": {},
   "outputs": [
    {
     "name": "stdout",
     "output_type": "stream",
     "text": [
      "0.08250004969715541\n",
      "[[0.89709858 0.2980035  0.26230482]\n",
      " [0.00512955 0.54320252 0.47559637]]\n",
      "25\n",
      "[25 25 28 27 23]\n"
     ]
    }
   ],
   "source": [
    "rand1=np.random.rand()\n",
    "print(rand1)\n",
    "\n",
    "rand2=np.random.rand(2,3)\n",
    "print(rand2)\n",
    "\n",
    "rand4=np.random.randint(20,30)\n",
    "print(rand4)\n",
    "\n",
    "rand5=np.random.randint(20,30,5)\n",
    "print(rand5)\n"
   ]
  },
  {
   "cell_type": "code",
   "execution_count": 79,
   "id": "2acb0426-16db-4d26-beb0-cdaee7e15314",
   "metadata": {},
   "outputs": [
    {
     "name": "stdout",
     "output_type": "stream",
     "text": [
      "0.11505456638977896\n"
     ]
    }
   ],
   "source": [
    "rand3=np.random.seed(43)\n",
    "rand6=np.random.rand() #this will returns the same float number for each run because we are using seed on it\n",
    "print(rand6)"
   ]
  },
  {
   "cell_type": "code",
   "execution_count": 84,
   "id": "b3bbc711-2f2a-4798-aac1-f8decd38cde7",
   "metadata": {},
   "outputs": [
    {
     "name": "stdout",
     "output_type": "stream",
     "text": [
      "[[27 29 11]\n",
      " [15 23 18]]\n",
      "\n",
      " [[[10 29 19 14]\n",
      "  [24 16 22 21]\n",
      "  [14 14 28 18]]\n",
      "\n",
      " [[11 18 19 22]\n",
      "  [25 15 20 29]\n",
      "  [14 20 12 13]]]\n"
     ]
    }
   ],
   "source": [
    "rand7=np.random.randint(10,30,size=(2,3))\n",
    "print(rand7)\n",
    "\n",
    "rand8=np.random.randint(10,30,size=(2,3,4))\n",
    "print(\"\\n\" ,rand8)"
   ]
  },
  {
   "cell_type": "markdown",
   "id": "67a6eb3d-5249-46e3-98e5-95ec1bb7558f",
   "metadata": {},
   "source": [
    "<h1 style=\"font-family: 'Segoe UI', sans-serif; font-size: 30px; color: #097770;\">\n",
    "  Checking Shape of Numpy Array\n",
    "</h1>\n",
    "\n",
    "<p style=\"font-family: Georgia; font-size: 18px;\">\n",
    "    1.<code>np.shape</code> check the shape in the form (table,rows,columns) for 3D ,(rows,columns) for 2D and (rows,) for 1D </br>\n",
    "    2.<code>arr.shape=(a,b)</code> for changing the shape to (a,b)(it is possible) if  a*b=number of elements </br>\n",
    "    *Notice the shape changing tecnique ,it's important\n",
    "</p>\n",
    "      "
   ]
  },
  {
   "cell_type": "code",
   "execution_count": 89,
   "id": "1c7feaa8-4c08-47ba-8ca1-ecc443dd3c04",
   "metadata": {},
   "outputs": [
    {
     "name": "stdout",
     "output_type": "stream",
     "text": [
      "[[2 3 4]\n",
      " [7 5 6]]\n",
      "\n",
      "Old Shape: (2, 3)\n",
      "\n",
      " [[2]\n",
      " [3]\n",
      " [4]\n",
      " [7]\n",
      " [5]\n",
      " [6]]\n",
      "\n",
      "New Shape: (6, 1)\n"
     ]
    }
   ],
   "source": [
    "arr1=np.array([[2,3,4],[7,5,6]])\n",
    "print(arr1)\n",
    "print(f'\\nOld Shape: {arr1.shape}')\n",
    "\n",
    "arr1.shape=(6,1)\n",
    "\n",
    "print(\"\\n\",arr1)\n",
    "print(f'\\nNew Shape: {arr1.shape}')"
   ]
  },
  {
   "cell_type": "markdown",
   "id": "4d6e373f-a310-434f-9bf9-a2574f7c9ac3",
   "metadata": {},
   "source": [
    "<h1 style=\"font-family: 'Segoe UI', sans-serif; font-size: 30px; color: #097770;\">\n",
    "  Joining Numpy Arrays\n",
    "</h1>\n",
    "\n",
    "<p style=\"font-family: Georgia; font-size: 18px;\">\n",
    "    1.<code>np.vstack((arr1,arr2))</code> means vertical stack --it stacks arr1 and arr2 on top of each other (like rows in table) </br>\n",
    "    2.<code>np.hstack((arr1,arr2))</code> means horizontal stack --it stacks arr1 and arr2 side by side  (like adding more columns) </br>\n",
    "    3.<code>np.column_stack((arr1,arr2))</code> means vertical stack --it stacks 1D arrays to 2D array side by side   where, </br>\n",
    "   <b> arr1 becomes the first column</b> </br>\n",
    "   <b> arr2 becomes the second column</b> \n",
    "    \n",
    "    *Notice the changes\n",
    "</p>\n",
    "      "
   ]
  },
  {
   "cell_type": "code",
   "execution_count": 96,
   "id": "201800cb-33be-4d83-a233-1cab4bdc2dfe",
   "metadata": {},
   "outputs": [
    {
     "name": "stdout",
     "output_type": "stream",
     "text": [
      "[[3 4 5]\n",
      " [7 8 6]]\n",
      "\n",
      " [3 4 5 7 8 6]\n",
      "\n",
      " [[3 7]\n",
      " [4 8]\n",
      " [5 6]]\n"
     ]
    }
   ],
   "source": [
    "arr1=np.array([3,4,5])\n",
    "arr2=np.array([7,8,6])\n",
    "\n",
    "vs=np.vstack((arr1,arr2))\n",
    "print(vs)\n",
    "\n",
    "hs=np.hstack((arr1,arr2))\n",
    "print(\"\\n\",hs)\n",
    "\n",
    "cs=np.column_stack((arr1,arr2))\n",
    "print(\"\\n\", cs)"
   ]
  },
  {
   "cell_type": "markdown",
   "id": "4a187f8b-095e-4ee7-9935-d070e2720faa",
   "metadata": {},
   "source": [
    "<h1 style=\"font-family: 'Segoe UI', sans-serif; font-size: 30px; color: #097770;\">\n",
    " Numpy Intersection and Difference\n",
    "</h1>\n",
    "\n",
    "<p style=\"font-family: Georgia; font-size: 18px;\">\n",
    "    1.<code>np.intersect1d(arr1,arr2)</code> returns common elements of arr1 and arr2 </br>\n",
    "    2.<code>arr.setdiff1d(arr1,arr2)</code> returns the elements of arr1 which are not common in arr2 </br>\n",
    "    *for 1D arrays\n",
    "</p>\n",
    "      "
   ]
  },
  {
   "cell_type": "code",
   "execution_count": 97,
   "id": "7a6555d9-24b5-43b3-b4b4-2ebda32f838b",
   "metadata": {},
   "outputs": [
    {
     "name": "stdout",
     "output_type": "stream",
     "text": [
      "[2 4 7]\n",
      "\n",
      " [3 6]\n"
     ]
    }
   ],
   "source": [
    "arr1=np.array([2,3,4,6,7])\n",
    "arr2=np.array([9,8,2,4,7])\n",
    "\n",
    "intersect=np.intersect1d(arr1,arr2) \n",
    "print(intersect)\n",
    "\n",
    "diff=np.setdiff1d(arr1,arr2)\n",
    "print(\"\\n\",diff)"
   ]
  },
  {
   "cell_type": "code",
   "execution_count": null,
   "id": "15df4e50-e398-406a-8a86-3be68e0aacde",
   "metadata": {},
   "outputs": [],
   "source": []
  }
 ],
 "metadata": {
  "kernelspec": {
   "display_name": "Python 3.10 (tfenv)",
   "language": "python",
   "name": "tfenv"
  },
  "language_info": {
   "codemirror_mode": {
    "name": "ipython",
    "version": 3
   },
   "file_extension": ".py",
   "mimetype": "text/x-python",
   "name": "python",
   "nbconvert_exporter": "python",
   "pygments_lexer": "ipython3",
   "version": "3.10.0"
  }
 },
 "nbformat": 4,
 "nbformat_minor": 5
}
